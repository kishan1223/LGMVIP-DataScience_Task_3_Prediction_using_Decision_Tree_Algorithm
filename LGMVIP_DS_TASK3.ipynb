{
  "nbformat": 4,
  "nbformat_minor": 0,
  "metadata": {
    "colab": {
      "provenance": []
    },
    "kernelspec": {
      "name": "python3",
      "display_name": "Python 3"
    },
    "language_info": {
      "name": "python"
    }
  },
  "cells": [
    {
      "cell_type": "markdown",
      "source": [
        "<center><h1>TASK 3</h1></center>\n",
        "<center><h1>PREDICTION USING DECISION TREE ALGORITHM</h1></center>"
      ],
      "metadata": {
        "id": "TeizCWN0zmHK"
      }
    },
    {
      "cell_type": "markdown",
      "source": [
        "<center><h2>The aim is to classify iris flowers among three species (setosa, \n",
        "versicolor, virginica) from the measurements of sepal's and petal's width and length.\n",
        "The central goal here is to design a decision tree classifier model for successful \n",
        "classification.</h2></center>"
      ],
      "metadata": {
        "id": "JjqXaKN5z7IV"
      }
    },
    {
      "cell_type": "markdown",
      "source": [
        "**1. IMPORTING LIBRARIES**"
      ],
      "metadata": {
        "id": "gNDFA9K00M5C"
      }
    },
    {
      "cell_type": "code",
      "execution_count": null,
      "metadata": {
        "id": "Gzo9-0fMzlBZ"
      },
      "outputs": [],
      "source": [
        "import pandas as pd\n",
        "import numpy as np\n",
        "import seaborn as sns\n",
        "import matplotlib.pyplot as plt\n",
        "%matplotlib inline"
      ]
    },
    {
      "cell_type": "markdown",
      "source": [
        "**2. LOADING THE DATASET**"
      ],
      "metadata": {
        "id": "bHIcQMbV0R3W"
      }
    },
    {
      "cell_type": "code",
      "source": [
        "columns = ['Sepal_Length', 'Sepal_Width', 'Petal_Length', 'Petal_Width', 'Class_Labels']\n",
        "data = pd.read_csv('Iris.csv', names = columns)\n",
        "data.head()"
      ],
      "metadata": {
        "id": "UlmZr1tt0S8Y"
      },
      "execution_count": null,
      "outputs": []
    },
    {
      "cell_type": "markdown",
      "source": [
        "**3. VISUALIZATION OF THE DATASET**"
      ],
      "metadata": {
        "id": "ypgL2tJC1yFF"
      }
    },
    {
      "cell_type": "code",
      "source": [
        "#basic statistics of the dataset\n",
        "data.describe()"
      ],
      "metadata": {
        "id": "GOZU8hpR1y0c"
      },
      "execution_count": null,
      "outputs": []
    },
    {
      "cell_type": "code",
      "source": [
        "#plotting the whole dataset information using seaborn pairplot\n",
        "g = sns.pairplot(data, hue = 'Class_Labels')\n",
        "g.fig.set_figheight(6)\n",
        "g.fig.set_figwidth(10)\n",
        "\n",
        "#from the below visualization it is clear that Iris Setosa is well separated from the other two flowers"
      ],
      "metadata": {
        "id": "Jt3PMOsP14SU"
      },
      "execution_count": null,
      "outputs": []
    },
    {
      "cell_type": "markdown",
      "source": [
        "**4. SEPARATING INPUT COLUMNS AND OUTPUT COLUMNS**"
      ],
      "metadata": {
        "id": "S2KZKEO14J12"
      }
    },
    {
      "cell_type": "code",
      "source": [
        "df = data.values\n",
        "X = df[:, 0:4]\n",
        "Y = df[:, 4] \n",
        "print(X)\n",
        "print(Y)"
      ],
      "metadata": {
        "id": "vRUB4gdx4Kvs"
      },
      "execution_count": null,
      "outputs": []
    },
    {
      "cell_type": "markdown",
      "source": [
        "**5. SPLITTING THE DATA INTO TRAINING AND TESTING**"
      ],
      "metadata": {
        "id": "dM4SdiMZ4QDn"
      }
    },
    {
      "cell_type": "code",
      "source": [
        "from sklearn.model_selection import train_test_split\n",
        "X_train, X_test, y_train, y_test = train_test_split(X, Y, test_size = 0.2)"
      ],
      "metadata": {
        "id": "eGMMRZlU4Qm1"
      },
      "execution_count": null,
      "outputs": []
    },
    {
      "cell_type": "markdown",
      "source": [
        "**6. MODEL CREATION AND TRAINING**"
      ],
      "metadata": {
        "id": "QdJ0Ao9A4X6s"
      }
    },
    {
      "cell_type": "code",
      "source": [
        "from sklearn.tree import DecisionTreeClassifier\n",
        "model_DTC = DecisionTreeClassifier(criterion='gini')\n",
        "model_DTC.fit(X_train, y_train)"
      ],
      "metadata": {
        "id": "2WHJILfg40vH"
      },
      "execution_count": null,
      "outputs": []
    },
    {
      "cell_type": "code",
      "source": [
        "prediction1 = model_DTC.predict(X_test)\n",
        "#calculate the accuracy\n",
        "from sklearn.metrics import accuracy_score\n",
        "print(accuracy_score(y_test, prediction1)*100)"
      ],
      "metadata": {
        "id": "BA1jlXEZ5ioL"
      },
      "execution_count": null,
      "outputs": []
    },
    {
      "cell_type": "markdown",
      "source": [
        "**7. CLASSIFICATION REPORT**"
      ],
      "metadata": {
        "id": "gvFV7KkQ7RQl"
      }
    },
    {
      "cell_type": "code",
      "source": [
        "from sklearn.metrics import classification_report\n",
        "print(classification_report(y_test, prediction1))"
      ],
      "metadata": {
        "id": "J3I7NEf67Rps"
      },
      "execution_count": null,
      "outputs": []
    },
    {
      "cell_type": "markdown",
      "source": [
        "**8. GRAPHICAL REPRESENTATION OF DECISION TREE**"
      ],
      "metadata": {
        "id": "89sg_sdZ68vv"
      }
    },
    {
      "cell_type": "code",
      "source": [
        "from sklearn import tree\n",
        "plt.figure(figsize=(30,15))\n",
        "dot_data = tree.plot_tree(model_DTC, \n",
        "                                feature_names=['Sepal_Length (cm)','Sepal_Width (cm)','Petal_Length (cm)','Petal_Width (cm)'],  \n",
        "                                class_names=['Iris-Setosa', 'Iris-Versicolor', 'Iris-Virginica'],\n",
        "                                filled=True)"
      ],
      "metadata": {
        "id": "_Lfu6xJN5ztT"
      },
      "execution_count": null,
      "outputs": []
    }
  ]
}